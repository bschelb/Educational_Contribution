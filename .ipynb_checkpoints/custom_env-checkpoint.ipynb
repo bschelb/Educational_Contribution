{
 "cells": [
  {
   "cell_type": "markdown",
   "metadata": {},
   "source": [
    "This is the file that creates the custom environment for the AI to work in. It uses all the functions we made in the sim file"
   ]
  },
  {
   "cell_type": "code",
   "execution_count": 6,
   "metadata": {},
   "outputs": [
    {
     "data": {
      "text/html": [
       "\n",
       "        <script>\n",
       "            function code_toggle_14262288972410828412() {\n",
       "                $('div.cell.code_cell.rendered.selected').find('div.input').toggle();\n",
       "            }\n",
       "\n",
       "            \n",
       "        </script>\n",
       "\n",
       "        <a href=\"javascript:code_toggle_14262288972410828412()\">Toggle show/hide</a>\n",
       "    "
      ],
      "text/plain": [
       "<IPython.core.display.HTML object>"
      ]
     },
     "execution_count": 6,
     "metadata": {},
     "output_type": "execute_result"
    }
   ],
   "source": [
    "### Don't worry about this!! ###\n",
    "from IPython.display import HTML\n",
    "import random\n",
    "\n",
    "def hide_toggle(for_next=False):\n",
    "    this_cell = \"\"\"$('div.cell.code_cell.rendered.selected')\"\"\"\n",
    "    next_cell = this_cell + '.next()'\n",
    "\n",
    "    toggle_text = 'Toggle show/hide'  # text shown on toggle link\n",
    "    target_cell = this_cell  # target cell to control with toggle\n",
    "    js_hide_current = ''  # bit of JS to permanently hide code in current cell (only when toggling next cell)\n",
    "\n",
    "    if for_next:\n",
    "        target_cell = next_cell\n",
    "        toggle_text += ' next cell'\n",
    "        js_hide_current = this_cell + '.find(\"div.input\").hide();'\n",
    "\n",
    "    js_f_name = 'code_toggle_{}'.format(str(random.randint(1,2**64)))\n",
    "\n",
    "    html = \"\"\"\n",
    "        <script>\n",
    "            function {f_name}() {{\n",
    "                {cell_selector}.find('div.input').toggle();\n",
    "            }}\n",
    "\n",
    "            {js_hide_current}\n",
    "        </script>\n",
    "\n",
    "        <a href=\"javascript:{f_name}()\">{toggle_text}</a>\n",
    "    \"\"\".format(\n",
    "        f_name=js_f_name,\n",
    "        cell_selector=target_cell,\n",
    "        js_hide_current=js_hide_current, \n",
    "        toggle_text=toggle_text\n",
    "    )\n",
    "\n",
    "    return HTML(html)\n",
    "hide_toggle()"
   ]
  },
  {
   "cell_type": "code",
   "execution_count": 1,
   "metadata": {},
   "outputs": [],
   "source": [
    "import io, os, sys, types\n",
    "from IPython import get_ipython\n",
    "from nbformat import read\n",
    "from IPython.core.interactiveshell import InteractiveShell\n",
    "import logging\n",
    "import tensorflow as tf\n",
    "import time\n",
    "\n",
    "from tensorforce.agents import Agent\n",
    "from tensorforce.environments import Environment\n",
    "from tensorforce.execution import Runner"
   ]
  },
  {
   "cell_type": "code",
   "execution_count": 5,
   "metadata": {},
   "outputs": [
    {
     "name": "stdout",
     "output_type": "stream",
     "text": [
      "importing Jupyter notebook from sim.ipynb\n"
     ]
    },
    {
     "data": {
      "text/html": [
       "\n",
       "        <script>\n",
       "            function code_toggle_7597522257678797666() {\n",
       "                $('div.cell.code_cell.rendered.selected').find('div.input').toggle();\n",
       "            }\n",
       "\n",
       "            \n",
       "        </script>\n",
       "\n",
       "        <a href=\"javascript:code_toggle_7597522257678797666()\">Toggle show/hide</a>\n",
       "    "
      ],
      "text/plain": [
       "<IPython.core.display.HTML object>"
      ]
     },
     "execution_count": 5,
     "metadata": {},
     "output_type": "execute_result"
    }
   ],
   "source": [
    "### Don't worry about this!! ###\n",
    "class NotebookLoader(object):\n",
    "    \"\"\"Module Loader for Jupyter Notebooks\"\"\"\n",
    "    def __init__(self, path=None):\n",
    "        self.shell = InteractiveShell.instance()\n",
    "        self.path = path\n",
    "        \n",
    "    def find_notebook(self, fullname, path=None):\n",
    "        name = fullname.rsplit('.', 1)[-1]\n",
    "        if not path:\n",
    "            path = ['']\n",
    "        for d in path:\n",
    "            nb_path = os.path.join(d, name + \".ipynb\")\n",
    "            if os.path.isfile(nb_path):\n",
    "                return nb_path\n",
    "            # let import Notebook_Name find \"Notebook Name.ipynb\"\n",
    "            nb_path = nb_path.replace(\"_\", \" \")\n",
    "            if os.path.isfile(nb_path):\n",
    "                return nb_path\n",
    "\n",
    "    def load_module(self, fullname):\n",
    "        \"\"\"import a notebook as a module\"\"\"\n",
    "        path = self.find_notebook(fullname)\n",
    "\n",
    "        print (\"importing Jupyter notebook from %s\" % path)\n",
    "\n",
    "        # load the notebook object\n",
    "        with io.open(path, 'r', encoding='utf-8') as f:\n",
    "            nb = read(f, 4)\n",
    "\n",
    "\n",
    "        # create the module and add it to sys.modules\n",
    "        # if name in sys.modules:\n",
    "        #    return sys.modules[name]\n",
    "        mod = types.ModuleType(fullname)\n",
    "        mod.__file__ = path\n",
    "        mod.__loader__ = self\n",
    "        mod.__dict__['get_ipython'] = get_ipython\n",
    "        sys.modules[fullname] = mod\n",
    "\n",
    "        # extra work to ensure that magics that would affect the user_ns\n",
    "        # actually affect the notebook module's ns\n",
    "        save_user_ns = self.shell.user_ns\n",
    "        self.shell.user_ns = mod.__dict__\n",
    "\n",
    "        try:\n",
    "          for cell in nb.cells:\n",
    "            if cell.cell_type == 'code':\n",
    "                # transform the input to executable Python\n",
    "                code = self.shell.input_transformer_manager.transform_cell(cell.source)\n",
    "                # run the code in themodule\n",
    "                exec(code, mod.__dict__)\n",
    "        finally:\n",
    "            self.shell.user_ns = save_user_ns\n",
    "        return mod\n",
    "a = NotebookLoader()\n",
    "a.load_module('sim')\n",
    "hide_toggle()"
   ]
  },
  {
   "cell_type": "code",
   "execution_count": null,
   "metadata": {},
   "outputs": [],
   "source": [
    "import sim"
   ]
  },
  {
   "cell_type": "code",
   "execution_count": null,
   "metadata": {},
   "outputs": [],
   "source": [
    "### Creates the custom environment that the AI will use to play the game ###\n",
    "\n",
    "### Creates a class which is an object that the Tensorforce program uses to do certain things ###\n",
    "class CustomEnvironment(Environment):\n",
    "    \n",
    "    ### Here we create an object from the class that WE made ###\n",
    "    gameSimulation = sim.GameSim()\n",
    "    \n",
    "    ### We initialize the class ###\n",
    "    def __init__(self):\n",
    "        super().__init__()\n",
    "\n",
    "    ### Here the Tensorforce program uses this attribute to figure out how many things the AI is given describing\n",
    "    ### the world around it. It calls it like this custom_env.CustomEnvironment.states() ###\n",
    "    def states(self):\n",
    "        return dict(type='float', shape=(49,))\n",
    "    \n",
    "    ### Here we tell the Tensorforce program what decisions the AI can say ###\n",
    "    def actions(self):\n",
    "        return {\"up\": dict(type=\"float\", min_value=0.0, max_value=1.0),\n",
    "                 \"down\": dict(type=\"float\", min_value=0.0, max_value=1.0),\n",
    "                 \"left\": dict(type=\"float\", min_value=0.0, max_value=1.0),\n",
    "                 \"right\": dict(type=\"float\", min_value=0.0, max_value=1.0),\n",
    "                 }\n",
    "    ### Here we tell it how many turns it gets in one game ###\n",
    "    def max_episode_timesteps(self):\n",
    "        return super().max_episode_timesteps()\n",
    "\n",
    "    ### Here is where we shut down the AI ###\n",
    "    def close(self):\n",
    "        super().close()\n",
    "    \n",
    "    ### Here is where we reset the game for the AI ###\n",
    "    def reset(self):\n",
    "        ### Here we use the gameSimulation object instance and use its reset() function to reset the game ###\n",
    "        self.gameSimulation.reset()\n",
    "        return self.gameSimulation.get_state()\n",
    "\n",
    "    ### Here is where the AI actually plays the game! ###\n",
    "    def execute(self, actions):\n",
    "        ### Here we check if the move the AI made is valid, passing the actions to the gameSimulation objects ###\n",
    "        ### move_check() function ###\n",
    "        if self.gameSimulation.move_check(actions):\n",
    "            ### If the move is valid then we use the simulations movePlayer() function, passing it the actions ###\n",
    "            ### and getting the AI's new_position back! We then set the new position as a variable so we can use it later ###\n",
    "            new_position = self.gameSimulation.movePlayer(actions)\n",
    "            ### We then use the simulation objects reward() function to set the AI's reward and check to see if the ###\n",
    "            ### game is over, by passing in the AI's new position that we set earlier. We can do this by setting ###\n",
    "            ### two variables that get returned by the reward() function. reward & gameOver. Reward is a number, and ###\n",
    "            ### gameOver is True or False. ###\n",
    "            reward, gameOver = self.gameSimulation.reward(new_position)\n",
    "            ### Here we just print what is happening ###\n",
    "            print(f\"The AI decided to move to {new_position}, and was given a reward of {reward}\")\n",
    "            ### I use this to slow the execution of the code down ###\n",
    "            time.sleep(2)\n",
    "            ### Finally, we check to see if the game is over or not, setting terminal to True or False accordingly. ###\n",
    "            if gameOver is True:\n",
    "                terminal = True\n",
    "            else:\n",
    "                terminal = False\n",
    "        ### If the AI made an invalid move we just tell it to try again and take away 1 point ###\n",
    "        else:\n",
    "            reward = -1\n",
    "            terminal = False\n",
    "        ### Finally we return the new state of the game for the AI to look at for its next move. Along with the reward ###\n",
    "        ### and whether it won or not with terminal. It uses all these things to try and make better decisions in the future ###\n",
    "        return self.gameSimulation.get_state(), terminal, reward"
   ]
  },
  {
   "cell_type": "code",
   "execution_count": null,
   "metadata": {},
   "outputs": [],
   "source": []
  }
 ],
 "metadata": {
  "kernelspec": {
   "display_name": "Python 3",
   "language": "python",
   "name": "python3"
  },
  "language_info": {
   "codemirror_mode": {
    "name": "ipython",
    "version": 3
   },
   "file_extension": ".py",
   "mimetype": "text/x-python",
   "name": "python",
   "nbconvert_exporter": "python",
   "pygments_lexer": "ipython3",
   "version": "3.6.10"
  }
 },
 "nbformat": 4,
 "nbformat_minor": 4
}
