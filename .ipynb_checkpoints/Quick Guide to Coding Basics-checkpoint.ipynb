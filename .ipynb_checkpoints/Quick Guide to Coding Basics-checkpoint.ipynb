{
 "cells": [
  {
   "cell_type": "markdown",
   "metadata": {},
   "source": [
    "Lets write our first program. We will be using the language known as Python. This is a great multi-purpose language that you can do a ton of things with. It is also beginner friendly while still being very powerful."
   ]
  },
  {
   "cell_type": "code",
   "execution_count": 1,
   "metadata": {},
   "outputs": [],
   "source": [
    "### Below this comment type print(\"Hello world\") and hit run in the tool bar at the top of the page ###\n",
    "### make sure to use the quotation marks! ###\n",
    "### Your code here: \n"
   ]
  },
  {
   "cell_type": "markdown",
   "metadata": {},
   "source": [
    "Now we will make our first function. Functions are important concepts in programming because they allow us to organize directions into one place and then only use them when we need them.\n",
    "Defining functions is different depending on the language but in Python you do the following:\n",
    "\n",
    "def twoPlusTwo():\n",
    "    number = 2 + 2\n",
    "    return print(Number)\n",
    "    \n",
    "Notice how the two lines below the function are indented once (4 spaces) this is very important because that's how Python knows what lines of code belong to what function!"
   ]
  },
  {
   "cell_type": "code",
   "execution_count": 2,
   "metadata": {},
   "outputs": [
    {
     "ename": "IndentationError",
     "evalue": "expected an indented block (<ipython-input-2-9ba3dad9c249>, line 5)",
     "output_type": "error",
     "traceback": [
      "\u001b[0;36m  File \u001b[0;32m\"<ipython-input-2-9ba3dad9c249>\"\u001b[0;36m, line \u001b[0;32m5\u001b[0m\n\u001b[0;31m    number = 2 + 2\u001b[0m\n\u001b[0m         ^\u001b[0m\n\u001b[0;31mIndentationError\u001b[0m\u001b[0;31m:\u001b[0m expected an indented block\n"
     ]
    }
   ],
   "source": [
    "### Here is an example of a bad function. ###\n",
    "### It breaks because the indentation is wrong. Press run on this cell and see the error ###\n",
    "\n",
    "def twoPlusTwo():\n",
    "number = 2 + 2\n",
    "return print(Number)\n",
    "\n",
    "\n",
    "### Now that you have seen what an error looks like, try and fix this function by adding the correct indentation ###\n",
    "### Remember Python wants four spaces or 1 tab to organize and assign lines to the thing above it ###"
   ]
  },
  {
   "cell_type": "markdown",
   "metadata": {},
   "source": [
    "Another important thing about functions is that they return something to you if you tell them to.\n",
    "\n",
    "Here is a function that is perfectly correct, but does not return anything to us.\n",
    "def twoPlusTwo():\n",
    "    number = 2 + 2\n",
    "\n",
    "Here is a function that is also correct, and returns something to us.\n",
    "\n",
    "def twoPlusTwo():\n",
    "    number = 2 + 2\n",
    "    return print(number)"
   ]
  },
  {
   "cell_type": "code",
   "execution_count": 3,
   "metadata": {},
   "outputs": [],
   "source": [
    "### Lets see the difference between these two functions in action ###\n",
    "### Hit run to see what happens ###\n",
    "def twoPlusTwo():\n",
    "    number = 2 + 2\n",
    "\n",
    "twoPlusTwo()"
   ]
  },
  {
   "cell_type": "code",
   "execution_count": 4,
   "metadata": {},
   "outputs": [
    {
     "name": "stdout",
     "output_type": "stream",
     "text": [
      "4\n"
     ]
    }
   ],
   "source": [
    "### As you can see nothing came out of the function but it also didn't error ###\n",
    "### Now see what happens when you run this function ###\n",
    "def twoPlusTwo():\n",
    "    number = 2 + 2\n",
    "    return print(number)\n",
    "\n",
    "twoPlusTwo()"
   ]
  },
  {
   "cell_type": "markdown",
   "metadata": {},
   "source": [
    "Now if you are wondering why I keep putting in this line:\n",
    "\n",
    "twoPlusTwo()\n",
    "\n",
    "This is how you get a function to actually execute. Without calling the name of the function, it won't do anything.\n",
    "Adding this: ()\n",
    "To the name is also necessary as without the parentheses the computer will be confused.\n",
    "\n",
    "ALSO! If you have been confused as to what a variable is. A variable is just something that we create and define ourselves.\n",
    "you create it by typing a name and then using the equals sign: =\n",
    "Here is an example:\n",
    "myVariable = \"this word\"\n",
    "myVariable2 = 2\n",
    "\n",
    "And even:\n",
    "myVariable3 = [x+2 for x in range(1,9)] Just playing around! This isn't anything you need to know right now\n"
   ]
  },
  {
   "cell_type": "code",
   "execution_count": 5,
   "metadata": {},
   "outputs": [
    {
     "ename": "IndentationError",
     "evalue": "expected an indented block (<ipython-input-5-9db0b56ba8e5>, line 5)",
     "output_type": "error",
     "traceback": [
      "\u001b[0;36m  File \u001b[0;32m\"<ipython-input-5-9db0b56ba8e5>\"\u001b[0;36m, line \u001b[0;32m5\u001b[0m\n\u001b[0;31m    number = 2 + 2\u001b[0m\n\u001b[0m         ^\u001b[0m\n\u001b[0;31mIndentationError\u001b[0m\u001b[0;31m:\u001b[0m expected an indented block\n"
     ]
    }
   ],
   "source": [
    "### Fix the function below this comment (test it out by hitting Run):\n",
    "# hint: There are 2 errors\n",
    "\n",
    "def twoPlusTwo():\n",
    "number = 2 + 2\n",
    "    return print(number)\n",
    "\n",
    "twoPlusTwo"
   ]
  },
  {
   "cell_type": "code",
   "execution_count": null,
   "metadata": {},
   "outputs": [],
   "source": [
    "### Try and create your own variable and then print it below:\n",
    "\n",
    "### Variable assignment goes here:\n",
    "\n",
    "### Print statement goes here, (don't forget your parentheses):\n"
   ]
  },
  {
   "cell_type": "markdown",
   "metadata": {},
   "source": [
    "The last big thing about functions is that you can actually pass information to them and receive information back. Below is an example of a function that receives a number, changes the number, then gives it back to the thing that told it to run."
   ]
  },
  {
   "cell_type": "code",
   "execution_count": null,
   "metadata": {},
   "outputs": [],
   "source": [
    "### Here we define the function by saying it needs a bit of information whenever it gets called like so:\n",
    "###    twoPlusTwo(2)\n",
    "### The function then takes that information, names it number, and then changes it by adding two to it. ###\n",
    "def addTwo(number):\n",
    "    ### You can also change the 2 below this comment to change how much is added to the number passed in below ###\n",
    "    newNumber = number + 2\n",
    "    return newNumber\n",
    "\n",
    "### Change the number in addTwo(2) to see what is printed out how it changes.\n",
    "number_to_print_out = addTwo(2)\n",
    "print(number_to_print_out)"
   ]
  },
  {
   "cell_type": "markdown",
   "metadata": {},
   "source": [
    "Now with the basics of functions down lets look at lists. Lists are a type of holder for information or data.\n",
    "The information in lists are always surrounded by brackets [] and each little bit of information is separated by a comma like this: ,\n",
    "If you haven't picked up on it yet either we assign "
   ]
  },
  {
   "cell_type": "code",
   "execution_count": null,
   "metadata": {},
   "outputs": [],
   "source": [
    "myList = [0,1,2,3,4,5]\n",
    "print(myList)\n",
    "### Above we see myList. This list contains 6 points of data. BUT to the computer it is only 5.\n",
    "### This is because all computers start counting from 0. So 0 is 0 and 1 is 1 and so forth.\n",
    "### This is important because we often need to change certain things in a list. Lets say I want to add 5 to \n",
    "### the fifth place in this list. I would do that by accessing the 5th index of the list.\n",
    "### Hit run to see five added to the fith index of the list.\n",
    "myList[5] = myList[5] + 5\n",
    "print(myList)"
   ]
  },
  {
   "cell_type": "markdown",
   "metadata": {},
   "source": [
    "As you can see you access parts of a list with the index place of that list."
   ]
  },
  {
   "cell_type": "code",
   "execution_count": null,
   "metadata": {},
   "outputs": [],
   "source": [
    "### Below try and print each individual part of the list by using the items index.\n",
    "myList = [1,'two', 3.5]\n",
    "\n",
    "# Print statement goes here:\n"
   ]
  },
  {
   "cell_type": "markdown",
   "metadata": {},
   "source": [
    "Next up we will look at a for loop. These are simple loops used to do things with each item in a list, without doing what you just did and individually indexing every part of a list.\n",
    "\n",
    "a for loop looks like this:\n",
    "\n",
    "myList = [5,10,15]\n",
    "\n",
    "for number in myList:\n",
    "    number = number + 5\n",
    "\n",
    "This code will add five to every number in myList by iterating over each item in the list."
   ]
  },
  {
   "cell_type": "code",
   "execution_count": null,
   "metadata": {},
   "outputs": [],
   "source": [
    "### Lets see it in action. Hit run.\n",
    "myList = [5,10,15]\n",
    "### We need a new list to put the new items in\n",
    "newList = []\n",
    "### take this sentence literally. for NUMBER in myList: number refers to the individual item in the list.\n",
    "### You can name it whatever you want but its best to make it make sense. I often use item if I can't use it literally \n",
    "### So in that case it would be: for item in myList: \n",
    "### And then whatever you name the individual data point you use the same name to change it.\n",
    "for number in myList:\n",
    "    # .append() is covered in the cell below\n",
    "     newList.append(number + 5)\n",
    "print(myList)\n",
    "print(newList)"
   ]
  },
  {
   "cell_type": "markdown",
   "metadata": {},
   "source": [
    "Here we took used the .append() function to add the modified number to the new list.\n",
    ".append() or anything followed by a dot is called a method and is simply just calling a new function to do something to whatever is before the dot.\n",
    "Examples include:\n",
    "\n",
    "myList = [5,10,15]\n",
    "\n",
    "myList.extend()\n",
    "myList.append()\n",
    "myList.push()\n",
    "\n",
    "There are many methods (functions) that are built in to Python that you don't need to write yourself. They are just there to save you time and are a topic you can explore further on your own time."
   ]
  },
  {
   "cell_type": "code",
   "execution_count": null,
   "metadata": {},
   "outputs": [],
   "source": [
    "### Try to create your own list and manipulate or change something about it below:\n",
    "\n",
    "### Create your original list:\n",
    "\n",
    "### Create the empty list so you can put the items you changed into it with X.append(Y)\n",
    "### Where \"X\" is the name of your list and \"Y\" is whatever you want to change the item with. It could be as simple as \n",
    "### above where we used number + 5."
   ]
  },
  {
   "cell_type": "markdown",
   "metadata": {},
   "source": [
    "Classes are the last thing we will look at before diving into the basics of reinforcement learning AI.\n",
    "\n",
    "Classes actually are the exact same thing as the methods we were just talking about in the previous cell. The way they work is that someone else wrote a lot of functions for a specific thing. Those things are known as objects. \n",
    "Examples of objects are just things like lists:\n",
    "\n",
    "myList = [2,3,4] is an object.\n",
    "\n",
    "It is able to use things like .append() because someone made that function an attribute of the list object.\n",
    "\n",
    "Down below I will create a simple example."
   ]
  },
  {
   "cell_type": "code",
   "execution_count": null,
   "metadata": {},
   "outputs": [],
   "source": [
    "class Person:\n",
    "    # This is the code that is ran whenver we create an object that is a person.\n",
    "    def __init__(self, name, age):\n",
    "        self.name = name\n",
    "        self.age = age\n",
    "    \n",
    "    # This is a method of the class Person.\n",
    "    def haveBirthday(self):\n",
    "        self.age = self.age + 1\n",
    "        return self.age\n"
   ]
  },
  {
   "cell_type": "markdown",
   "metadata": {},
   "source": [
    "Now that we have a class called Person, we can create a person! That person will then have the attribute of haveBirthday(). Using that attribute we can increase their age by one. We can also access the persons name and age with the print statement as they are bits of information held by the person object."
   ]
  },
  {
   "cell_type": "code",
   "execution_count": null,
   "metadata": {},
   "outputs": [],
   "source": [
    "class Person:\n",
    "    # This is the code that is ran whenver we create an object that is a person.\n",
    "    def __init__(self, name, age):\n",
    "        self.name = name\n",
    "        self.age = age\n",
    "    \n",
    "    # This is a method of the class Person.\n",
    "    def haveBirthday(self):\n",
    "        self.age = self.age + 1\n",
    "        return self.age\n",
    "\n",
    "# You create an instance of the object person like this\n",
    "tom = Person(\"Tom\", 23)\n",
    "# Now we have an object called Tom who is a person.\n",
    "# We can get their information like this\n",
    "print(tom.name)\n",
    "print(tom.age)\n",
    "# And for good measure we can just print tom and see they are an object\n",
    "print(tom)"
   ]
  },
  {
   "cell_type": "code",
   "execution_count": null,
   "metadata": {},
   "outputs": [],
   "source": [
    "### IF we do not give all the nececssary information when creating an instance of a Person, it will not work.\n",
    "### Try to fix this error based on that knowledge.\n",
    "\n",
    "class Person:\n",
    "    # This is the code that is ran whenver we create an object that is a person.\n",
    "    def __init__(self, name, age):\n",
    "        self.name = name\n",
    "        self.age = age\n",
    "    \n",
    "    # This is a method of the class Person.\n",
    "    def haveBirthday(self):\n",
    "        self.age = self.age + 1\n",
    "        return self.age\n",
    "\n",
    "    \n",
    "# Change code below\n",
    "bill = Person()\n",
    "\n",
    "print(\"this will print when you fix it\")"
   ]
  },
  {
   "cell_type": "markdown",
   "metadata": {},
   "source": [
    "That finally brings us to methods of a class.\n",
    "\n",
    "Just like .append() is a function in the list class of Python, .haveBirthday() is a method on the person class of our code here.\n",
    "\n",
    "We use it like this in the cell below."
   ]
  },
  {
   "cell_type": "code",
   "execution_count": null,
   "metadata": {},
   "outputs": [],
   "source": [
    "class Person:\n",
    "    # This is the code that is ran whenver we create an object that is a person.\n",
    "    def __init__(self, name, age):\n",
    "        self.name = name\n",
    "        self.age = age\n",
    "    \n",
    "    # This is a method of the class Person.\n",
    "    def haveBirthday(self):\n",
    "        self.age = self.age + 1\n",
    "        return print(\"Wooooo! Happy birthday\")\n",
    "\n",
    "    \n",
    "\n",
    "tom = Person(\"Tom\", 23)\n",
    "\n",
    "print(\"Toms age before their b-day: \")\n",
    "print(tom.age)\n",
    "\n",
    "tom.haveBirthday()\n",
    "\n",
    "print(\"Tom's age after their b-day: \")\n",
    "print(tom.age)\n",
    "\n",
    "# Now toms age has changed and the Tom object is updated and their age will remain 24."
   ]
  },
  {
   "cell_type": "markdown",
   "metadata": {},
   "source": [
    "Below you will try and create your own method that changes the name of a person object."
   ]
  },
  {
   "cell_type": "code",
   "execution_count": null,
   "metadata": {},
   "outputs": [],
   "source": [
    "### Try to create and use your own method (remember methods are just functions) that changes Tom's name to something else.\n",
    "\n",
    "class Person:\n",
    "    # This is the code that is ran whenver we create an object that is a person.\n",
    "    def __init__(self, name, age):\n",
    "        self.name = name\n",
    "        self.age = age\n",
    "    \n",
    "    # This is a method of the class Person.\n",
    "    def haveBirthday(self):\n",
    "        self.age = self.age + 1\n",
    "        return print(\"Wooooo! Happy birthday\")\n",
    "    \n",
    "    # Add your new function below to change Tom's name. Use the function above to guide you. \n",
    "    # You don't need to print anything though if you don't want to.\n",
    "\n",
    "    \n",
    "# Note that the name of the object has changed to somebody. If Tom can change his name\n",
    "# it didn't make sense to leave the name of their object Tom! Use the following to call your new method\n",
    "# somebody.X\n",
    "# instead of\n",
    "# tom.X\n",
    "# Where \"X\" is the name of your new function.\n",
    "somebody = Person(\"Tom\", 23)"
   ]
  },
  {
   "cell_type": "markdown",
   "metadata": {},
   "source": [
    "Please turn your attention to the video to learn more about the specifics of reinforcement learning AI.\n",
    "\n",
    "Thanks for following along in this basic introduction to Python programming!"
   ]
  }
 ],
 "metadata": {
  "kernelspec": {
   "display_name": "Python 3",
   "language": "python",
   "name": "python3"
  },
  "language_info": {
   "codemirror_mode": {
    "name": "ipython",
    "version": 3
   },
   "file_extension": ".py",
   "mimetype": "text/x-python",
   "name": "python",
   "nbconvert_exporter": "python",
   "pygments_lexer": "ipython3",
   "version": "3.6.10"
  }
 },
 "nbformat": 4,
 "nbformat_minor": 4
}
