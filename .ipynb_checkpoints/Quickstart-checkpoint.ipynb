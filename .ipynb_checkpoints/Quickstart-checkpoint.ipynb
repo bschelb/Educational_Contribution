{
 "cells": [
  {
   "cell_type": "code",
   "execution_count": 1,
   "metadata": {},
   "outputs": [],
   "source": [
    "import io, os, sys, types\n",
    "from IPython import get_ipython\n",
    "from nbformat import read\n",
    "from IPython.core.interactiveshell import InteractiveShell"
   ]
  },
  {
   "cell_type": "code",
   "execution_count": 2,
   "metadata": {},
   "outputs": [
    {
     "name": "stdout",
     "output_type": "stream",
     "text": [
      "importing Jupyter notebook from sim.ipynb\n",
      "importing Jupyter notebook from custom_env.ipynb\n",
      "importing Jupyter notebook from sim.ipynb\n"
     ]
    },
    {
     "data": {
      "text/plain": [
       "<module 'custom_env' from 'custom_env.ipynb'>"
      ]
     },
     "execution_count": 2,
     "metadata": {},
     "output_type": "execute_result"
    }
   ],
   "source": [
    "class NotebookLoader(object):\n",
    "    \"\"\"Module Loader for Jupyter Notebooks\"\"\"\n",
    "    def __init__(self, path=None):\n",
    "        self.shell = InteractiveShell.instance()\n",
    "        self.path = path\n",
    "\n",
    "    def find_notebook(self, fullname, path=None):\n",
    "        name = fullname.rsplit('.', 1)[-1]\n",
    "        if not path:\n",
    "            path = ['']\n",
    "        for d in path:\n",
    "            nb_path = os.path.join(d, name + \".ipynb\")\n",
    "            if os.path.isfile(nb_path):\n",
    "                return nb_path\n",
    "            # let import Notebook_Name find \"Notebook Name.ipynb\"\n",
    "            nb_path = nb_path.replace(\"_\", \" \")\n",
    "            if os.path.isfile(nb_path):\n",
    "                return nb_path\n",
    "        \n",
    "    def load_module(self, fullname):\n",
    "        \"\"\"import a notebook as a module\"\"\"\n",
    "        path = self.find_notebook(fullname)\n",
    "\n",
    "        print (\"importing Jupyter notebook from %s\" % path)\n",
    "\n",
    "        # load the notebook object\n",
    "        with io.open(path, 'r', encoding='utf-8') as f:\n",
    "            nb = read(f, 4)\n",
    "\n",
    "\n",
    "        # create the module and add it to sys.modules\n",
    "        # if name in sys.modules:\n",
    "        #    return sys.modules[name]\n",
    "        mod = types.ModuleType(fullname)\n",
    "        mod.__file__ = path\n",
    "        mod.__loader__ = self\n",
    "        mod.__dict__['get_ipython'] = get_ipython\n",
    "        sys.modules[fullname] = mod\n",
    "\n",
    "        # extra work to ensure that magics that would affect the user_ns\n",
    "        # actually affect the notebook module's ns\n",
    "        save_user_ns = self.shell.user_ns\n",
    "        self.shell.user_ns = mod.__dict__\n",
    "\n",
    "        try:\n",
    "          for cell in nb.cells:\n",
    "            if cell.cell_type == 'code':\n",
    "                # transform the input to executable Python\n",
    "                code = self.shell.input_transformer_manager.transform_cell(cell.source)\n",
    "                # run the code in themodule\n",
    "                exec(code, mod.__dict__)\n",
    "        finally:\n",
    "            self.shell.user_ns = save_user_ns\n",
    "        return mod\n",
    "a = NotebookLoader()\n",
    "a.load_module('sim')\n",
    "a.load_module('custom_env')"
   ]
  },
  {
   "cell_type": "code",
   "execution_count": 3,
   "metadata": {},
   "outputs": [],
   "source": [
    "import logging\n",
    "\n",
    "import tensorflow as tf\n",
    "\n",
    "from tensorforce.agents import Agent\n",
    "from tensorforce.environments import Environment\n",
    "from tensorforce.execution import Runner\n",
    "\n",
    "import custom_env\n",
    "\n",
    "from sim import GameSim"
   ]
  },
  {
   "cell_type": "code",
   "execution_count": 4,
   "metadata": {},
   "outputs": [],
   "source": [
    "os.environ['TF_CPP_MIN_LOG_LEVEL'] = '3'\n",
    "logger = tf.get_logger()\n",
    "logger.setLevel(logging.ERROR)"
   ]
  },
  {
   "cell_type": "code",
   "execution_count": null,
   "metadata": {
    "scrolled": true
   },
   "outputs": [
    {
     "name": "stderr",
     "output_type": "stream",
     "text": [
      "\r",
      "Episodes:   0%|          | 0/100 [00:00, reward=0.00, ts/ep=0, sec/ep=0.00, ms/ts=0.0, agent=0.0%]"
     ]
    },
    {
     "name": "stdout",
     "output_type": "stream",
     "text": [
      "The AI decided to move to (0, 2), and was given a reward of -1\n",
      "The AI decided to move to (1, 2), and was given a reward of -1\n",
      "The AI decided to move to (0, 2), and was given a reward of -1\n",
      "Gathered Item\n",
      "The AI decided to move to (0, 3), and was given a reward of 35\n"
     ]
    },
    {
     "name": "stderr",
     "output_type": "stream",
     "text": [
      "\r",
      "Episodes:   1%|          | 1/100 [00:11, reward=30.00, ts/ep=6, sec/ep=11.77, ms/ts=1961.5, agent=32.0%]"
     ]
    },
    {
     "name": "stdout",
     "output_type": "stream",
     "text": [
      "The AI decided to move to (3, 2), and was given a reward of -1\n",
      "The AI decided to move to (2, 2), and was given a reward of -1\n",
      "The AI decided to move to (1, 2), and was given a reward of -1\n",
      "The AI decided to move to (1, 1), and was given a reward of -1\n",
      "The AI decided to move to (1, 2), and was given a reward of -1\n",
      "The AI decided to move to (1, 3), and was given a reward of -1\n",
      "The AI decided to move to (1, 2), and was given a reward of -1\n",
      "The AI decided to move to (0, 2), and was given a reward of -1\n",
      "The AI decided to move to (0, 3), and was given a reward of -1\n",
      "The AI decided to move to (1, 3), and was given a reward of -1\n",
      "The AI decided to move to (1, 2), and was given a reward of -1\n",
      "The AI decided to move to (0, 2), and was given a reward of -1\n",
      "The AI decided to move to (0, 3), and was given a reward of -1\n",
      "The AI decided to move to (1, 3), and was given a reward of -1\n",
      "The AI decided to move to (2, 3), and was given a reward of -1\n",
      "The AI decided to move to (2, 2), and was given a reward of -1\n",
      "The AI decided to move to (2, 1), and was given a reward of -1\n",
      "The AI decided to move to (2, 2), and was given a reward of -1\n",
      "The AI decided to move to (2, 3), and was given a reward of -1\n",
      "The AI decided to move to (1, 3), and was given a reward of -1\n",
      "The AI decided to move to (2, 3), and was given a reward of -1\n",
      "The AI decided to move to (1, 3), and was given a reward of -1\n",
      "The AI decided to move to (1, 2), and was given a reward of -1\n",
      "The AI decided to move to (1, 3), and was given a reward of -1\n",
      "The AI decided to move to (1, 2), and was given a reward of -1\n",
      "The AI decided to move to (1, 1), and was given a reward of -1\n",
      "The AI decided to move to (1, 2), and was given a reward of -1\n",
      "The AI decided to move to (0, 2), and was given a reward of -1\n",
      "The AI decided to move to (0, 3), and was given a reward of -1\n",
      "The AI decided to move to (1, 3), and was given a reward of -1\n",
      "The AI decided to move to (2, 3), and was given a reward of -1\n",
      "The AI decided to move to (1, 3), and was given a reward of -1\n",
      "The AI decided to move to (0, 3), and was given a reward of -1\n"
     ]
    },
    {
     "name": "stderr",
     "output_type": "stream",
     "text": [
      "\r",
      "Episodes:   2%|▏         | 2/100 [01:17, reward=-40.00, ts/ep=40, sec/ep=66.12, ms/ts=1653.0, agent=0.1%]"
     ]
    },
    {
     "name": "stdout",
     "output_type": "stream",
     "text": [
      "The AI decided to move to (3, 1), and was given a reward of -1\n",
      "The AI decided to move to (3, 0), and was given a reward of -1\n",
      "The AI decided to move to (3, 1), and was given a reward of -1\n",
      "The AI decided to move to (3, 0), and was given a reward of -1\n",
      "The AI decided to move to (3, 1), and was given a reward of -1\n",
      "The AI decided to move to (2, 1), and was given a reward of -1\n",
      "The AI decided to move to (1, 1), and was given a reward of -1\n",
      "The AI decided to move to (0, 1), and was given a reward of -1\n",
      "The AI decided to move to (1, 1), and was given a reward of -1\n",
      "The AI decided to move to (0, 1), and was given a reward of -1\n",
      "The AI decided to move to (0, 0), and was given a reward of -1\n",
      "The AI decided to move to (1, 0), and was given a reward of -1\n",
      "The AI decided to move to (1, 1), and was given a reward of -1\n",
      "The AI decided to move to (2, 1), and was given a reward of -1\n",
      "The AI decided to move to (3, 1), and was given a reward of -1\n",
      "The AI decided to move to (3, 0), and was given a reward of -1\n",
      "The AI decided to move to (2, 0), and was given a reward of -1\n",
      "The AI decided to move to (3, 0), and was given a reward of -1\n",
      "The AI decided to move to (2, 0), and was given a reward of -1\n",
      "The AI decided to move to (2, 1), and was given a reward of -1\n",
      "The AI decided to move to (1, 1), and was given a reward of -1\n",
      "The AI decided to move to (1, 2), and was given a reward of -1\n"
     ]
    }
   ],
   "source": [
    "# Copyright 2018 Tensorforce Team. All Rights Reserved.\n",
    "#\n",
    "# Licensed under the Apache License, Version 2.0 (the \"License\");\n",
    "# you may not use this file except in compliance with the License.\n",
    "# You may obtain a copy of the License at\n",
    "#\n",
    "#     http://www.apache.org/licenses/LICENSE-2.0\n",
    "#\n",
    "# Unless required by applicable law or agreed to in writing, software\n",
    "# distributed under the License is distributed on an \"AS IS\" BASIS,\n",
    "# WITHOUT WARRANTIES OR CONDITIONS OF ANY KIND, either express or implied.\n",
    "# See the License for the specific language governing permissions and\n",
    "# limitations under the License.\n",
    "# ==============================================================================\n",
    "\n",
    "# Create an OpenAI-Gym environment\n",
    "environment = Environment.create(\n",
    "    environment='custom_env.CustomEnvironment', max_episode_timesteps=40\n",
    ")\n",
    "\n",
    "# Create a PPO agent\n",
    "agent = Agent.create(\n",
    "    agent='ppo', environment=environment,\n",
    "    # Automatically configured network\n",
    "    network='auto',\n",
    "    # Optimization\n",
    "    batch_size=10, update_frequency=2, learning_rate=1e-3, subsampling_fraction=0.2,\n",
    "    optimization_steps=5,\n",
    "    # Preprocessing\n",
    "    preprocessing=None,\n",
    "    # Exploration\n",
    "    exploration=0.22, variable_noise=0.0,\n",
    "    # Regularization\n",
    "    l2_regularization=0.0, entropy_regularization=0.0,\n",
    "    # TensorFlow etc\n",
    "    name='agent', device=None, parallel_interactions=1, seed=None, execution=None, saver=None,\n",
    "    summarizer=None, recorder=None\n",
    ")\n",
    "\n",
    "# Initialize the runner\n",
    "runner = Runner(agent=agent, environment=environment)\n",
    "\n",
    "# Start the runner\n",
    "runner.run(num_episodes=100)\n",
    "runner.close()"
   ]
  },
  {
   "cell_type": "code",
   "execution_count": null,
   "metadata": {},
   "outputs": [],
   "source": [
    "# simulation = GameSim()\n",
    "# for i in range()"
   ]
  },
  {
   "cell_type": "code",
   "execution_count": null,
   "metadata": {},
   "outputs": [],
   "source": []
  }
 ],
 "metadata": {
  "kernelspec": {
   "display_name": "Python 3",
   "language": "python",
   "name": "python3"
  },
  "language_info": {
   "codemirror_mode": {
    "name": "ipython",
    "version": 3
   },
   "file_extension": ".py",
   "mimetype": "text/x-python",
   "name": "python",
   "nbconvert_exporter": "python",
   "pygments_lexer": "ipython3",
   "version": "3.6.10"
  }
 },
 "nbformat": 4,
 "nbformat_minor": 4
}
