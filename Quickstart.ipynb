{
 "cells": [
  {
   "cell_type": "code",
   "execution_count": 2,
   "metadata": {},
   "outputs": [
    {
     "data": {
      "text/html": [
       "\n",
       "        <script>\n",
       "            function code_toggle_16592415492601606126() {\n",
       "                $('div.cell.code_cell.rendered.selected').find('div.input').toggle();\n",
       "            }\n",
       "\n",
       "            \n",
       "        </script>\n",
       "\n",
       "        <a href=\"javascript:code_toggle_16592415492601606126()\">Toggle show/hide</a>\n",
       "    "
      ],
      "text/plain": [
       "<IPython.core.display.HTML object>"
      ]
     },
     "execution_count": 2,
     "metadata": {},
     "output_type": "execute_result"
    }
   ],
   "source": [
    "### Don't worrry about this!! ###\n",
    "from IPython.display import HTML\n",
    "import random\n",
    "\n",
    "def hide_toggle(for_next=False):\n",
    "    this_cell = \"\"\"$('div.cell.code_cell.rendered.selected')\"\"\"\n",
    "    next_cell = this_cell + '.next()'\n",
    "\n",
    "    toggle_text = 'Toggle show/hide'  # text shown on toggle link\n",
    "    target_cell = this_cell  # target cell to control with toggle\n",
    "    js_hide_current = ''  # bit of JS to permanently hide code in current cell (only when toggling next cell)\n",
    "\n",
    "    if for_next:\n",
    "        target_cell = next_cell\n",
    "        toggle_text += ' next cell'\n",
    "        js_hide_current = this_cell + '.find(\"div.input\").hide();'\n",
    "\n",
    "    js_f_name = 'code_toggle_{}'.format(str(random.randint(1,2**64)))\n",
    "\n",
    "    html = \"\"\"\n",
    "        <script>\n",
    "            function {f_name}() {{\n",
    "                {cell_selector}.find('div.input').toggle();\n",
    "            }}\n",
    "\n",
    "            {js_hide_current}\n",
    "        </script>\n",
    "\n",
    "        <a href=\"javascript:{f_name}()\">{toggle_text}</a>\n",
    "    \"\"\".format(\n",
    "        f_name=js_f_name,\n",
    "        cell_selector=target_cell,\n",
    "        js_hide_current=js_hide_current, \n",
    "        toggle_text=toggle_text\n",
    "    )\n",
    "\n",
    "    return HTML(html)\n",
    "hide_toggle()"
   ]
  },
  {
   "cell_type": "code",
   "execution_count": 3,
   "metadata": {},
   "outputs": [],
   "source": [
    "import io, os, sys, types\n",
    "from IPython import get_ipython\n",
    "from nbformat import read\n",
    "from IPython.core.interactiveshell import InteractiveShell\n",
    "import logging\n",
    "import tensorflow as tf\n",
    "from tensorforce.agents import Agent\n",
    "from tensorforce.environments import Environment\n",
    "from tensorforce.execution import Runner"
   ]
  },
  {
   "cell_type": "code",
   "execution_count": 4,
   "metadata": {},
   "outputs": [
    {
     "name": "stdout",
     "output_type": "stream",
     "text": [
      "importing Jupyter notebook from sim.ipynb\n",
      "importing Jupyter notebook from custom_env.ipynb\n",
      "importing Jupyter notebook from sim.ipynb\n"
     ]
    },
    {
     "data": {
      "text/html": [
       "\n",
       "        <script>\n",
       "            function code_toggle_10904867824439737255() {\n",
       "                $('div.cell.code_cell.rendered.selected').find('div.input').toggle();\n",
       "            }\n",
       "\n",
       "            \n",
       "        </script>\n",
       "\n",
       "        <a href=\"javascript:code_toggle_10904867824439737255()\">Toggle show/hide</a>\n",
       "    "
      ],
      "text/plain": [
       "<IPython.core.display.HTML object>"
      ]
     },
     "execution_count": 4,
     "metadata": {},
     "output_type": "execute_result"
    }
   ],
   "source": [
    "### Don't worry about this!! ###\n",
    "class NotebookLoader(object):\n",
    "    \"\"\"Module Loader for Jupyter Notebooks\"\"\"\n",
    "    def __init__(self, path=None):\n",
    "        self.shell = InteractiveShell.instance()\n",
    "        self.path = path\n",
    "\n",
    "    def find_notebook(self, fullname, path=None):\n",
    "        name = fullname.rsplit('.', 1)[-1]\n",
    "        if not path:\n",
    "            path = ['']\n",
    "        for d in path:\n",
    "            nb_path = os.path.join(d, name + \".ipynb\")\n",
    "            if os.path.isfile(nb_path):\n",
    "                return nb_path\n",
    "            # let import Notebook_Name find \"Notebook Name.ipynb\"\n",
    "            nb_path = nb_path.replace(\"_\", \" \")\n",
    "            if os.path.isfile(nb_path):\n",
    "                return nb_path\n",
    "        \n",
    "    def load_module(self, fullname):\n",
    "        \"\"\"import a notebook as a module\"\"\"\n",
    "        path = self.find_notebook(fullname)\n",
    "\n",
    "        print (\"importing Jupyter notebook from %s\" % path)\n",
    "\n",
    "        # load the notebook object\n",
    "        with io.open(path, 'r', encoding='utf-8') as f:\n",
    "            nb = read(f, 4)\n",
    "\n",
    "\n",
    "        # create the module and add it to sys.modules\n",
    "        # if name in sys.modules:\n",
    "        #    return sys.modules[name]\n",
    "        mod = types.ModuleType(fullname)\n",
    "        mod.__file__ = path\n",
    "        mod.__loader__ = self\n",
    "        mod.__dict__['get_ipython'] = get_ipython\n",
    "        sys.modules[fullname] = mod\n",
    "\n",
    "        # extra work to ensure that magics that would affect the user_ns\n",
    "        # actually affect the notebook module's ns\n",
    "        save_user_ns = self.shell.user_ns\n",
    "        self.shell.user_ns = mod.__dict__\n",
    "\n",
    "        try:\n",
    "          for cell in nb.cells:\n",
    "            if cell.cell_type == 'code':\n",
    "                # transform the input to executable Python\n",
    "                code = self.shell.input_transformer_manager.transform_cell(cell.source)\n",
    "                # run the code in themodule\n",
    "                exec(code, mod.__dict__)\n",
    "        finally:\n",
    "            self.shell.user_ns = save_user_ns\n",
    "        return mod\n",
    "a = NotebookLoader()\n",
    "a.load_module('sim')\n",
    "a.load_module('custom_env')\n",
    "hide_toggle()"
   ]
  },
  {
   "cell_type": "code",
   "execution_count": 3,
   "metadata": {},
   "outputs": [],
   "source": [
    "import custom_env\n",
    "\n",
    "from sim import GameSim"
   ]
  },
  {
   "cell_type": "code",
   "execution_count": 4,
   "metadata": {},
   "outputs": [],
   "source": [
    "### This talks to the terminal ###\n",
    "os.environ['TF_CPP_MIN_LOG_LEVEL'] = '3'\n",
    "logger = tf.get_logger()\n",
    "logger.setLevel(logging.ERROR)"
   ]
  },
  {
   "cell_type": "code",
   "execution_count": null,
   "metadata": {
    "scrolled": true
   },
   "outputs": [
    {
     "name": "stderr",
     "output_type": "stream",
     "text": [
      "\r",
      "Episodes:   0%|          | 0/100 [00:00, reward=0.00, ts/ep=0, sec/ep=0.00, ms/ts=0.0, agent=0.0%]"
     ]
    },
    {
     "name": "stdout",
     "output_type": "stream",
     "text": [
      "The AI decided to move to (0, 2), and was given a reward of -1\n",
      "The AI decided to move to (1, 2), and was given a reward of -1\n",
      "The AI decided to move to (0, 2), and was given a reward of -1\n",
      "Gathered Item\n",
      "The AI decided to move to (0, 3), and was given a reward of 35\n"
     ]
    },
    {
     "name": "stderr",
     "output_type": "stream",
     "text": [
      "\r",
      "Episodes:   1%|          | 1/100 [00:11, reward=30.00, ts/ep=6, sec/ep=11.77, ms/ts=1961.5, agent=32.0%]"
     ]
    },
    {
     "name": "stdout",
     "output_type": "stream",
     "text": [
      "The AI decided to move to (3, 2), and was given a reward of -1\n",
      "The AI decided to move to (2, 2), and was given a reward of -1\n",
      "The AI decided to move to (1, 2), and was given a reward of -1\n",
      "The AI decided to move to (1, 1), and was given a reward of -1\n",
      "The AI decided to move to (1, 2), and was given a reward of -1\n",
      "The AI decided to move to (1, 3), and was given a reward of -1\n",
      "The AI decided to move to (1, 2), and was given a reward of -1\n",
      "The AI decided to move to (0, 2), and was given a reward of -1\n",
      "The AI decided to move to (0, 3), and was given a reward of -1\n",
      "The AI decided to move to (1, 3), and was given a reward of -1\n",
      "The AI decided to move to (1, 2), and was given a reward of -1\n",
      "The AI decided to move to (0, 2), and was given a reward of -1\n",
      "The AI decided to move to (0, 3), and was given a reward of -1\n",
      "The AI decided to move to (1, 3), and was given a reward of -1\n",
      "The AI decided to move to (2, 3), and was given a reward of -1\n",
      "The AI decided to move to (2, 2), and was given a reward of -1\n",
      "The AI decided to move to (2, 1), and was given a reward of -1\n",
      "The AI decided to move to (2, 2), and was given a reward of -1\n",
      "The AI decided to move to (2, 3), and was given a reward of -1\n",
      "The AI decided to move to (1, 3), and was given a reward of -1\n",
      "The AI decided to move to (2, 3), and was given a reward of -1\n",
      "The AI decided to move to (1, 3), and was given a reward of -1\n",
      "The AI decided to move to (1, 2), and was given a reward of -1\n",
      "The AI decided to move to (1, 3), and was given a reward of -1\n",
      "The AI decided to move to (1, 2), and was given a reward of -1\n",
      "The AI decided to move to (1, 1), and was given a reward of -1\n",
      "The AI decided to move to (1, 2), and was given a reward of -1\n",
      "The AI decided to move to (0, 2), and was given a reward of -1\n",
      "The AI decided to move to (0, 3), and was given a reward of -1\n",
      "The AI decided to move to (1, 3), and was given a reward of -1\n",
      "The AI decided to move to (2, 3), and was given a reward of -1\n",
      "The AI decided to move to (1, 3), and was given a reward of -1\n",
      "The AI decided to move to (0, 3), and was given a reward of -1\n"
     ]
    },
    {
     "name": "stderr",
     "output_type": "stream",
     "text": [
      "\r",
      "Episodes:   2%|▏         | 2/100 [01:17, reward=-40.00, ts/ep=40, sec/ep=66.12, ms/ts=1653.0, agent=0.1%]"
     ]
    },
    {
     "name": "stdout",
     "output_type": "stream",
     "text": [
      "The AI decided to move to (3, 1), and was given a reward of -1\n",
      "The AI decided to move to (3, 0), and was given a reward of -1\n",
      "The AI decided to move to (3, 1), and was given a reward of -1\n",
      "The AI decided to move to (3, 0), and was given a reward of -1\n",
      "The AI decided to move to (3, 1), and was given a reward of -1\n",
      "The AI decided to move to (2, 1), and was given a reward of -1\n",
      "The AI decided to move to (1, 1), and was given a reward of -1\n",
      "The AI decided to move to (0, 1), and was given a reward of -1\n",
      "The AI decided to move to (1, 1), and was given a reward of -1\n",
      "The AI decided to move to (0, 1), and was given a reward of -1\n",
      "The AI decided to move to (0, 0), and was given a reward of -1\n",
      "The AI decided to move to (1, 0), and was given a reward of -1\n",
      "The AI decided to move to (1, 1), and was given a reward of -1\n",
      "The AI decided to move to (2, 1), and was given a reward of -1\n",
      "The AI decided to move to (3, 1), and was given a reward of -1\n",
      "The AI decided to move to (3, 0), and was given a reward of -1\n",
      "The AI decided to move to (2, 0), and was given a reward of -1\n",
      "The AI decided to move to (3, 0), and was given a reward of -1\n",
      "The AI decided to move to (2, 0), and was given a reward of -1\n",
      "The AI decided to move to (2, 1), and was given a reward of -1\n",
      "The AI decided to move to (1, 1), and was given a reward of -1\n",
      "The AI decided to move to (1, 2), and was given a reward of -1\n"
     ]
    }
   ],
   "source": [
    "# Copyright 2018 Tensorforce Team. All Rights Reserved.\n",
    "#\n",
    "# Licensed under the Apache License, Version 2.0 (the \"License\");\n",
    "# you may not use this file except in compliance with the License.\n",
    "# You may obtain a copy of the License at\n",
    "#\n",
    "#     http://www.apache.org/licenses/LICENSE-2.0\n",
    "#\n",
    "# Unless required by applicable law or agreed to in writing, software\n",
    "# distributed under the License is distributed on an \"AS IS\" BASIS,\n",
    "# WITHOUT WARRANTIES OR CONDITIONS OF ANY KIND, either express or implied.\n",
    "# See the License for the specific language governing permissions and\n",
    "# limitations under the License.\n",
    "# ==============================================================================\n",
    "\n",
    "### Create an OpenAI-Gym environment-Talks to our custom_env file and class ###\n",
    "environment = Environment.create(\n",
    "    environment='custom_env.CustomEnvironment', max_episode_timesteps=40\n",
    ")\n",
    "\n",
    "### Create a PPO agent ###\n",
    "agent = Agent.create(\n",
    "    agent='ppo', environment=environment,\n",
    "    # Automatically configured network\n",
    "    network='auto',\n",
    "    # Optimization\n",
    "    batch_size=10, update_frequency=2, learning_rate=1e-3, subsampling_fraction=0.2,\n",
    "    optimization_steps=5,\n",
    "    # Preprocessing\n",
    "    preprocessing=None,\n",
    "    # Exploration\n",
    "    exploration=0.22, variable_noise=0.0,\n",
    "    # Regularization\n",
    "    l2_regularization=0.0, entropy_regularization=0.0,\n",
    "    # TensorFlow etc\n",
    "    name='agent', device=None, parallel_interactions=1, seed=None, execution=None, saver=None,\n",
    "    summarizer=None, recorder=None\n",
    ")\n",
    "\n",
    "### Initialize the runner ###\n",
    "#runner = Runner(agent=agent, environment=environment)\n",
    "\n",
    "### Start the runner ###\n",
    "#runner.run(num_episodes=100)\n",
    "#runner.close()"
   ]
  }
 ],
 "metadata": {
  "kernelspec": {
   "display_name": "Python 3",
   "language": "python",
   "name": "python3"
  },
  "language_info": {
   "codemirror_mode": {
    "name": "ipython",
    "version": 3
   },
   "file_extension": ".py",
   "mimetype": "text/x-python",
   "name": "python",
   "nbconvert_exporter": "python",
   "pygments_lexer": "ipython3",
   "version": "3.6.10"
  }
 },
 "nbformat": 4,
 "nbformat_minor": 4
}
